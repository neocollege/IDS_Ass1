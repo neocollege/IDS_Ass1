{
 "cells": [
  {
   "cell_type": "markdown",
   "id": "6c78f74706aa881f",
   "metadata": {
    "collapsed": false
   },
   "source": [
    "# Notebook for Part 2 - Decision Trees"
   ]
  },
  {
   "cell_type": "code",
   "execution_count": null,
   "id": "ea8423d6c6cf3c0f",
   "metadata": {
    "collapsed": false
   },
   "outputs": [],
   "source": [
    "# imports\n",
    "\n",
    "import matplotlib.pyplot as plt\n",
    "import numpy as np\n",
    "\n",
    "# Import Pandas and NumPy functionality for editing data\n",
    "import pandas as pd\n",
    "import seaborn as sns\n",
    "\n",
    "# Importing IPython display for visualizing intermediate results in the notebook\n",
    "from IPython.display import display\n",
    "\n",
    "# decision tree\n",
    "from sklearn import tree\n",
    "from sklearn.tree import plot_tree\n",
    "import matplotlib.pyplot as plt"
   ]
  },
  {
   "cell_type": "markdown",
   "id": "d28b8ac7c4141cb9",
   "metadata": {
    "collapsed": false
   },
   "source": [
    "Loading the train and test data sets"
   ]
  },
  {
   "cell_type": "code",
   "execution_count": null,
   "id": "fdc8234f77be6c9a",
   "metadata": {
    "collapsed": false
   },
   "outputs": [],
   "source": []
  },
  {
   "cell_type": "markdown",
   "id": "a35705845f5099fa",
   "metadata": {
    "collapsed": false
   },
   "source": [
    "## 2.a) Question: Base line approach of allways predicting the mode."
   ]
  },
  {
   "cell_type": "code",
   "execution_count": null,
   "id": "f84e823b6c11fe14",
   "metadata": {
    "collapsed": false
   },
   "outputs": [],
   "source": [
    "\n"
   ]
  },
  {
   "cell_type": "markdown",
   "id": "d1c35b270b434920",
   "metadata": {
    "collapsed": false
   },
   "source": [
    "## 2.b) Creating a decision tree"
   ]
  },
  {
   "cell_type": "code",
   "execution_count": null,
   "id": "ff47e51252bf49f7",
   "metadata": {
    "collapsed": false
   },
   "outputs": [],
   "source": []
  },
  {
   "cell_type": "markdown",
   "id": "36efacac4ee6d0c8",
   "metadata": {
    "collapsed": false
   },
   "source": [
    "## 2.c) Question: Draw a decision tree"
   ]
  },
  {
   "cell_type": "code",
   "execution_count": null,
   "id": "c230b6d4c871ae6f",
   "metadata": {
    "collapsed": false
   },
   "outputs": [],
   "source": []
  },
  {
   "cell_type": "code",
   "execution_count": null,
   "id": "6c68dac42b810eca",
   "metadata": {},
   "outputs": [],
   "source": []
  }
 ],
 "metadata": {
  "kernelspec": {
   "display_name": "env-ids",
   "language": "python",
   "name": "python3"
  },
  "language_info": {
   "codemirror_mode": {
    "name": "ipython",
    "version": 2
   },
   "file_extension": ".py",
   "mimetype": "text/x-python",
   "name": "python",
   "nbconvert_exporter": "python",
   "pygments_lexer": "ipython2",
   "version": "3.12.7"
  }
 },
 "nbformat": 4,
 "nbformat_minor": 5
}
