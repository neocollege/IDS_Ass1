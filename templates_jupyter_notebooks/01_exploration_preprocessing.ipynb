{
 "cells": [
  {
   "cell_type": "markdown",
   "id": "64f3d826b41d4c13",
   "metadata": {
    "collapsed": false
   },
   "source": [
    "# Notebook for Part 1 - Exploration and Preprocessing"
   ]
  },
  {
   "cell_type": "code",
   "execution_count": null,
   "id": "cd53080c13a9807d",
   "metadata": {
    "collapsed": false
   },
   "outputs": [],
   "source": [
    "# Import Matplotlib and Seaborn for visualization\n",
    "import matplotlib.pyplot as plt\n",
    "import numpy as np\n",
    "\n",
    "# Import Pandas and NumPy functionality for editing data\n",
    "import pandas as pd\n",
    "import seaborn as sns\n",
    "\n",
    "# Importing IPython display for visualizing intermediate results in the notebook\n",
    "from IPython.display import display"
   ]
  },
  {
   "cell_type": "markdown",
   "id": "c0d68fdedac9ff50",
   "metadata": {
    "collapsed": false
   },
   "source": [
    "# 1.a) Question: Import the log and give shape"
   ]
  },
  {
   "cell_type": "code",
   "execution_count": null,
   "id": "a247d6edcbd09505",
   "metadata": {
    "collapsed": false
   },
   "outputs": [],
   "source": []
  },
  {
   "cell_type": "markdown",
   "id": "d8066841e32230fc",
   "metadata": {
    "collapsed": false
   },
   "source": [
    "## 1.b) Question Basic Statistics"
   ]
  },
  {
   "cell_type": "code",
   "execution_count": null,
   "id": "a0378bc1a7150d0c",
   "metadata": {
    "collapsed": false
   },
   "outputs": [],
   "source": []
  },
  {
   "cell_type": "markdown",
   "id": "d1cb9f443467f1b1",
   "metadata": {
    "collapsed": false
   },
   "source": [
    "## 1.c) Question about the interpretation of mean of num\n",
    "(no code)"
   ]
  },
  {
   "cell_type": "markdown",
   "id": "c2870be8f83e7ba5",
   "metadata": {
    "collapsed": false
   },
   "source": [
    "## 1.d) Question: Class imbalance female, male"
   ]
  },
  {
   "cell_type": "code",
   "execution_count": null,
   "id": "7d2ef3906215c3d7",
   "metadata": {
    "collapsed": false
   },
   "outputs": [],
   "source": []
  },
  {
   "cell_type": "markdown",
   "id": "1ad433a482226ee5",
   "metadata": {
    "collapsed": false
   },
   "source": [
    "## 1.e) Question: Distribution target feature"
   ]
  },
  {
   "cell_type": "code",
   "execution_count": null,
   "id": "566b4ee6af1c9cc9",
   "metadata": {
    "collapsed": false
   },
   "outputs": [],
   "source": []
  },
  {
   "cell_type": "markdown",
   "id": "51c83408f2ec3218",
   "metadata": {
    "collapsed": false
   },
   "source": [
    "## 1.f) Question: Binning"
   ]
  },
  {
   "cell_type": "code",
   "execution_count": null,
   "id": "9efa2a12a73b0247",
   "metadata": {
    "collapsed": false
   },
   "outputs": [],
   "source": []
  },
  {
   "cell_type": "markdown",
   "id": "e832b122bada6ff6",
   "metadata": {
    "collapsed": false
   },
   "source": [
    "## 1.g) Question: Correlation"
   ]
  },
  {
   "cell_type": "code",
   "execution_count": null,
   "id": "e1b283c5e3b6c0bc",
   "metadata": {
    "collapsed": false
   },
   "outputs": [],
   "source": []
  },
  {
   "cell_type": "markdown",
   "id": "30a5d99094fb3a34",
   "metadata": {
    "collapsed": false
   },
   "source": [
    "## 1.h) Question: Correlation"
   ]
  },
  {
   "cell_type": "code",
   "execution_count": null,
   "id": "3291700a4ddb3432",
   "metadata": {
    "collapsed": false
   },
   "outputs": [],
   "source": []
  },
  {
   "cell_type": "markdown",
   "id": "938635456806a705",
   "metadata": {
    "collapsed": false
   },
   "source": [
    "## 1.i) Question Boxplot Interpretation\n",
    "(no code)"
   ]
  },
  {
   "cell_type": "markdown",
   "id": "c2f88b689d89a149",
   "metadata": {
    "collapsed": false
   },
   "source": [
    "## 1.j) Question: NANs per feature"
   ]
  },
  {
   "cell_type": "code",
   "execution_count": null,
   "id": "e30f4a9d25b11914",
   "metadata": {
    "collapsed": false
   },
   "outputs": [],
   "source": []
  },
  {
   "cell_type": "markdown",
   "id": "b4713e3391ce2453",
   "metadata": {
    "collapsed": false
   },
   "source": [
    "## 1.k) Question: Simple Remove NaNs"
   ]
  },
  {
   "cell_type": "code",
   "execution_count": null,
   "id": "ea464b8e1a11ed6a",
   "metadata": {
    "collapsed": false
   },
   "outputs": [],
   "source": []
  }
 ],
 "metadata": {
  "kernelspec": {
   "display_name": "env-ids",
   "language": "python",
   "name": "python3"
  },
  "language_info": {
   "codemirror_mode": {
    "name": "ipython",
    "version": 2
   },
   "file_extension": ".py",
   "mimetype": "text/x-python",
   "name": "python",
   "nbconvert_exporter": "python",
   "pygments_lexer": "ipython2",
   "version": "3.12.7"
  }
 },
 "nbformat": 4,
 "nbformat_minor": 5
}
