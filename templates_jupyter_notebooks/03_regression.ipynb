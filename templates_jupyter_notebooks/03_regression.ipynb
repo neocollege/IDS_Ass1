{
 "cells": [
  {
   "cell_type": "markdown",
   "id": "b8453476913a9a2c",
   "metadata": {
    "collapsed": false
   },
   "source": [
    "# Notebook for Part 3 - Regression"
   ]
  },
  {
   "cell_type": "code",
   "execution_count": null,
   "id": "b4923809790bbc53",
   "metadata": {
    "collapsed": false
   },
   "outputs": [],
   "source": [
    "# Import Matplotlib and Seaborn for visualization\n",
    "import matplotlib.pyplot as plt\n",
    "\n",
    "# Import Pandas and NumPy functionality for editing data\n",
    "import pandas as pd\n",
    "import seaborn as sns\n",
    "\n",
    "# Importing IPython display for visualizing intermediate results in the notebook\n",
    "from IPython.display import display\n",
    "\n",
    "# Import Regression\n",
    "from sklearn.linear_model import LogisticRegression"
   ]
  },
  {
   "cell_type": "markdown",
   "id": "6bde0616c32bb59d",
   "metadata": {
    "collapsed": false
   },
   "source": [
    "## 3.a) Question: Create a logistic regression model and give weights"
   ]
  },
  {
   "cell_type": "code",
   "execution_count": null,
   "id": "7370b24ac5517218",
   "metadata": {
    "collapsed": false
   },
   "outputs": [],
   "source": []
  },
  {
   "cell_type": "markdown",
   "id": "7d6661fdbc014d4",
   "metadata": {
    "collapsed": false
   },
   "source": [
    "## 3.b) Question: Compute error"
   ]
  },
  {
   "cell_type": "code",
   "execution_count": null,
   "id": "3510c7040b8febba",
   "metadata": {
    "collapsed": false
   },
   "outputs": [],
   "source": []
  },
  {
   "cell_type": "markdown",
   "id": "d21a9df60d625f4a",
   "metadata": {
    "collapsed": false
   },
   "source": [
    "## 3.c) Question: Plot thalch over age"
   ]
  },
  {
   "cell_type": "code",
   "execution_count": null,
   "id": "cf8f3ffe54800062",
   "metadata": {
    "collapsed": false
   },
   "outputs": [],
   "source": []
  }
 ],
 "metadata": {
  "kernelspec": {
   "display_name": "env-ids",
   "language": "python",
   "name": "python3"
  },
  "language_info": {
   "codemirror_mode": {
    "name": "ipython",
    "version": 2
   },
   "file_extension": ".py",
   "mimetype": "text/x-python",
   "name": "python",
   "nbconvert_exporter": "python",
   "pygments_lexer": "ipython2",
   "version": "3.12.7"
  }
 },
 "nbformat": 4,
 "nbformat_minor": 5
}
